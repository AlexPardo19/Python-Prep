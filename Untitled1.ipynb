{
  "nbformat": 4,
  "nbformat_minor": 0,
  "metadata": {
    "colab": {
      "provenance": [],
      "authorship_tag": "ABX9TyN0CrDRz7P0PZlP5NuFD0zP",
      "include_colab_link": true
    },
    "kernelspec": {
      "name": "python3",
      "display_name": "Python 3"
    },
    "language_info": {
      "name": "python"
    }
  },
  "cells": [
    {
      "cell_type": "markdown",
      "metadata": {
        "id": "view-in-github",
        "colab_type": "text"
      },
      "source": [
        "<a href=\"https://colab.research.google.com/github/AlexPardo19/Python-Prep/blob/main/Untitled1.ipynb\" target=\"_parent\"><img src=\"https://colab.research.google.com/assets/colab-badge.svg\" alt=\"Open In Colab\"/></a>"
      ]
    },
    {
      "cell_type": "code",
      "execution_count": 1,
      "metadata": {
        "colab": {
          "base_uri": "https://localhost:8080/"
        },
        "id": "spqhO_TpcbZ7",
        "outputId": "e37ac0b8-ce20-44a0-f140-a72d077ab269"
      },
      "outputs": [
        {
          "output_type": "stream",
          "name": "stdout",
          "text": [
            "False\n",
            "hola mundo, adios phyton\n"
          ]
        }
      ],
      "source": [
        "#starswith\n",
        "mj=(\"Hola que hace\")\n",
        "sa= mj.startswith(\"ola\")\n",
        "print(sa)\n",
        "#salida del codigo es falso\n",
        "\n",
        "#replace\n",
        "cd=\"hola mundo, Hola phyton\"\n",
        "nvc= cd.replace(\"Hola\", \"adios\")\n",
        "print(nvc)"
      ]
    }
  ]
}