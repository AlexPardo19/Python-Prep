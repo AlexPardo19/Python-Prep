{
  "nbformat": 4,
  "nbformat_minor": 0,
  "metadata": {
    "colab": {
      "provenance": [],
      "authorship_tag": "ABX9TyPQiN5zseU5sAbyCK4k8yNZ",
      "include_colab_link": true
    },
    "kernelspec": {
      "name": "python3",
      "display_name": "Python 3"
    },
    "language_info": {
      "name": "python"
    }
  },
  "cells": [
    {
      "cell_type": "markdown",
      "metadata": {
        "id": "view-in-github",
        "colab_type": "text"
      },
      "source": [
        "<a href=\"https://colab.research.google.com/github/AlexPardo19/Python-Prep/blob/main/tuplas.ipynb\" target=\"_parent\"><img src=\"https://colab.research.google.com/assets/colab-badge.svg\" alt=\"Open In Colab\"/></a>"
      ]
    },
    {
      "cell_type": "code",
      "execution_count": 9,
      "metadata": {
        "colab": {
          "base_uri": "https://localhost:8080/"
        },
        "id": "5AI1OB-KFPUk",
        "outputId": "b171720c-78d0-4892-9197-21739e14b7bf"
      },
      "outputs": [
        {
          "output_type": "stream",
          "name": "stdout",
          "text": [
            "('string', 10, 15.4, False, [1, 2, 3], (4, 5, 6))\n",
            "string\n",
            "(4, 5, 6)\n",
            "4\n"
          ]
        }
      ],
      "source": [
        "#una tupla es inmutable\n",
        "#una lista es mutable\n",
        "\n",
        "tupla = (\"string\",10,15.4,False,[1,2,3],(4,5,6))\n",
        "print(tupla)\n",
        "print(tupla[0])\n",
        "print(tupla[5])\n",
        "print(tupla[5][0])\n",
        "\n"
      ]
    },
    {
      "cell_type": "code",
      "source": [
        "cursos= (\"phyton\",\"flask\", \"django\",\"react\",\"rails\")\n",
        "\n",
        "primer_curso = cursos[0]\n",
        "primer_curso1 = cursos[-1]\n",
        "print(primer_curso)\n",
        "print(primer_curso1)\n",
        "print(cursos)\n",
        "\n",
        "sub_tupla = cursos[0:3]\n",
        "print(sub_tupla)"
      ],
      "metadata": {
        "colab": {
          "base_uri": "https://localhost:8080/"
        },
        "id": "g-IAPEb_GnFv",
        "outputId": "4f02f533-1c9a-4689-9080-2957c29c38c2"
      },
      "execution_count": 16,
      "outputs": [
        {
          "output_type": "stream",
          "name": "stdout",
          "text": [
            "phyton\n",
            "rails\n",
            "('phyton', 'flask', 'django', 'react', 'rails')\n",
            "('phyton', 'flask', 'django')\n"
          ]
        }
      ]
    },
    {
      "cell_type": "code",
      "source": [],
      "metadata": {
        "id": "fLE8RrHvJbYF"
      },
      "execution_count": null,
      "outputs": []
    },
    {
      "cell_type": "code",
      "source": [
        "cursos=[\"phyton\",\"flask\", \"django\"]\n",
        "cursos_t=tuple(cursos)\n",
        "print(cursos_t)\n",
        "print(type(cursos_t))\n",
        "niveles=(\"basico\",\"intermedio\",\"avanzado\")\n",
        "\n",
        "niv_lista=list(niveles)\n",
        "print(niv_lista)\n",
        "print(type(niv_lista))"
      ],
      "metadata": {
        "colab": {
          "base_uri": "https://localhost:8080/"
        },
        "id": "oh_W6qDZIwT0",
        "outputId": "c1404f57-5e01-47df-f49a-1b814dc75160"
      },
      "execution_count": 20,
      "outputs": [
        {
          "output_type": "stream",
          "name": "stdout",
          "text": [
            "('phyton', 'flask', 'django')\n",
            "<class 'tuple'>\n",
            "['basico', 'intermedio', 'avanzado']\n",
            "<class 'list'>\n"
          ]
        }
      ]
    },
    {
      "cell_type": "code",
      "source": [
        "#desempaquetado\n",
        "#asigna valores con la tupla\n",
        "numeros=(1,2,3,4,5,6,7,8,9,10)\n",
        "#* como prefijo indica que los elementos restantes se le asignaran a una variable en forma de lista\n",
        "# *_ indica que no se toma en cuenta el resto de valores\n",
        "uno,dos,tres,cuatro, *_,nueve,diez=numeros\n",
        "print(uno)\n",
        "print(dos)\n",
        "print(tres)\n",
        "print(cuatro)\n",
        "print(nueve)\n",
        "print(diez)\n",
        "\n"
      ],
      "metadata": {
        "colab": {
          "base_uri": "https://localhost:8080/"
        },
        "id": "35O0_HqqKK9e",
        "outputId": "651ee7fc-2084-43d9-e070-4a221251c465"
      },
      "execution_count": 24,
      "outputs": [
        {
          "output_type": "stream",
          "name": "stdout",
          "text": [
            "1\n",
            "2\n",
            "3\n",
            "4\n",
            "9\n",
            "10\n"
          ]
        }
      ]
    },
    {
      "cell_type": "code",
      "source": [
        "#obtener el numero 1,3,4 y 10\n",
        "#_ omite un valor\n",
        "numeros = (1, 2, 3, 4, 5, 6, 7, 8, 9, 10)\n",
        "uno, _ , tres, cuatro, *_  , diez = numeros\n",
        "print(uno)\n",
        "print(tres)\n",
        "print(cuatro)\n",
        "print(diez)\n"
      ],
      "metadata": {
        "colab": {
          "base_uri": "https://localhost:8080/"
        },
        "id": "BqM-rR8KNFYc",
        "outputId": "c3fee8cb-bfd4-4623-ce7d-b59f0ffd0b2e"
      },
      "execution_count": 27,
      "outputs": [
        {
          "output_type": "stream",
          "name": "stdout",
          "text": [
            "1\n",
            "3\n",
            "4\n",
            "10\n"
          ]
        }
      ]
    },
    {
      "cell_type": "code",
      "source": [
        "lista=[1,2,3,4,5]\n",
        "tupla=(10,20,30,40,50)\n",
        "\n",
        "lista_2=[100,200,300,400,500]\n",
        "tupla2=(1000,2000,3000,4000,5000)\n",
        "#si hay elementos restantes no se toman en cuenta y se omiten, siempre tendran la misma longitud\n",
        "#zip combina valores\n",
        "rest=zip(lista,tupla,lista_2,tupla2)\n",
        "rest=tuple(rest)\n",
        "print(rest)"
      ],
      "metadata": {
        "colab": {
          "base_uri": "https://localhost:8080/"
        },
        "id": "RLz4zDjrOSJB",
        "outputId": "c17d3b35-508c-431a-c155-8e2b75142020"
      },
      "execution_count": 33,
      "outputs": [
        {
          "output_type": "stream",
          "name": "stdout",
          "text": [
            "((1, 10, 100, 1000), (2, 20, 200, 2000), (3, 30, 300, 3000), (4, 40, 400, 4000), (5, 50, 500, 5000))\n"
          ]
        }
      ]
    }
  ]
}