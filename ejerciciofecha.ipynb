{
  "nbformat": 4,
  "nbformat_minor": 0,
  "metadata": {
    "colab": {
      "provenance": [],
      "toc_visible": true,
      "authorship_tag": "ABX9TyMYIHmoodmVWBsDIlSMsfym",
      "include_colab_link": true
    },
    "kernelspec": {
      "name": "python3",
      "display_name": "Python 3"
    },
    "language_info": {
      "name": "python"
    }
  },
  "cells": [
    {
      "cell_type": "markdown",
      "metadata": {
        "id": "view-in-github",
        "colab_type": "text"
      },
      "source": [
        "<a href=\"https://colab.research.google.com/github/AlexPardo19/Python-Prep/blob/main/ejerciciofecha.ipynb\" target=\"_parent\"><img src=\"https://colab.research.google.com/assets/colab-badge.svg\" alt=\"Open In Colab\"/></a>"
      ]
    },
    {
      "cell_type": "code",
      "execution_count": 1,
      "metadata": {
        "colab": {
          "base_uri": "https://localhost:8080/"
        },
        "id": "frjWSRd0fMKI",
        "outputId": "65d842e3-685a-4b86-cf0a-ad38309f1a5c"
      },
      "outputs": [
        {
          "output_type": "stream",
          "name": "stdout",
          "text": [
            "Ingrese la fecha en formato dd/mm/aaaa: 13/54/2024\n",
            "El mes ingresado es incorrecto.\n"
          ]
        }
      ],
      "source": [
        "#escribir la fecha en formato dd/mm/aaaa y mostrar separada el dia,mes y año\n",
        "\n",
        "fecha = input(\"Ingrese la fecha en formato dd/mm/aaaa: \")\n",
        "\n",
        "# Dividir la fecha en día, mes y año\n",
        "dia, mes, año = fecha.split('/')\n",
        "\n",
        "# Convertir a enteros\n",
        "dia = int(dia)\n",
        "mes = int(mes)\n",
        "anio = int(año)\n",
        "\n",
        "# Verificar si el día, mes o año son incorrectos\n",
        "if dia < 1 or dia > 31:\n",
        "    print(\"El día ingresado es incorrecto.\")\n",
        "elif mes < 1 or mes > 12:\n",
        "    print(\"El mes ingresado es incorrecto.\")\n",
        "elif anio < 0:\n",
        "    print(\"El año ingresado es incorrecto.\")\n",
        "else:\n",
        "    print(\"Día:\", dia)\n",
        "    print(\"Mes:\", mes)\n",
        "    print(\"Año:\", anio)"
      ]
    }
  ]
}