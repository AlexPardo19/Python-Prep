{
  "nbformat": 4,
  "nbformat_minor": 0,
  "metadata": {
    "colab": {
      "provenance": [],
      "authorship_tag": "ABX9TyPIG9Mm0o8Iijr7CYLqhBKB",
      "include_colab_link": true
    },
    "kernelspec": {
      "name": "python3",
      "display_name": "Python 3"
    },
    "language_info": {
      "name": "python"
    }
  },
  "cells": [
    {
      "cell_type": "markdown",
      "metadata": {
        "id": "view-in-github",
        "colab_type": "text"
      },
      "source": [
        "<a href=\"https://colab.research.google.com/github/AlexPardo19/Python-Prep/blob/main/AgregarElementosEnUnaLista.ipynb\" target=\"_parent\"><img src=\"https://colab.research.google.com/assets/colab-badge.svg\" alt=\"Open In Colab\"/></a>"
      ]
    },
    {
      "cell_type": "code",
      "execution_count": 9,
      "metadata": {
        "colab": {
          "base_uri": "https://localhost:8080/"
        },
        "id": "LY0PC20RI_Zm",
        "outputId": "dafb93e7-77d3-41c0-bdc1-fa760c8619a5"
      },
      "outputs": [
        {
          "output_type": "stream",
          "name": "stdout",
          "text": [
            "['Pygame', 'phyton', 'Rails', 'django', 'flask', 'Ruby', 'java', 'Rust', 'Mongo', 'C', 'C++', 'Docker']\n",
            "['C', 'C++', 'Docker']\n",
            "12\n",
            "[]\n",
            "0\n"
          ]
        }
      ],
      "source": [
        "lista_cursos=[\"phyton\",\"django\",\"flask\",\"Ruby\",\"java\",\"Rust\"]\n",
        "lista_cursos2=[\"C\",\"C++\",\"Docker\"]\n",
        "#el metodo append permite agreagar nuevos elementos en una lista\n",
        "\n",
        "lista_cursos.append(\"Mongo\")\n",
        "\n",
        "#se determina en que lugar del indice se insertara el nuevo elemento\n",
        "\n",
        "lista_cursos.insert(1,\"Rails\")\n",
        "lista_cursos.insert(0,\"Pygame\")\n",
        "#extiende la primera lista con el metodo extend.\n",
        "lista_cursos.extend(lista_cursos2)\n",
        "\n",
        "print(lista_cursos)\n",
        "print(lista_cursos2)\n",
        "#permite ver cuantos elementos hay en una lista\n",
        "print(len(lista_cursos)  )\n",
        "\n",
        "#metodo remove y la palabra reservada del, permite quitar un elemento de la lista\n",
        "lista_cursos.remove(\"Mongo\")\n",
        "del lista_cursos[2]\n",
        "#elemina todos los elementos de una lista\n",
        "lista_cursos.clear()\n",
        "print(lista_cursos)\n",
        "print(len(lista_cursos))\n"
      ]
    }
  ]
}