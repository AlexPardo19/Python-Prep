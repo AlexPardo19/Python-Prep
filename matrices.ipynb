{
  "nbformat": 4,
  "nbformat_minor": 0,
  "metadata": {
    "colab": {
      "provenance": [],
      "authorship_tag": "ABX9TyNVOOZWCvLT4TaJMzthFiAW",
      "include_colab_link": true
    },
    "kernelspec": {
      "name": "python3",
      "display_name": "Python 3"
    },
    "language_info": {
      "name": "python"
    }
  },
  "cells": [
    {
      "cell_type": "markdown",
      "metadata": {
        "id": "view-in-github",
        "colab_type": "text"
      },
      "source": [
        "<a href=\"https://colab.research.google.com/github/AlexPardo19/Python-Prep/blob/main/matrices.ipynb\" target=\"_parent\"><img src=\"https://colab.research.google.com/assets/colab-badge.svg\" alt=\"Open In Colab\"/></a>"
      ]
    },
    {
      "cell_type": "code",
      "execution_count": 4,
      "metadata": {
        "colab": {
          "base_uri": "https://localhost:8080/"
        },
        "id": "AKdfdtM1EHvy",
        "outputId": "14065e11-36de-4236-8aa0-54a8942f31e7"
      },
      "outputs": [
        {
          "output_type": "stream",
          "name": "stdout",
          "text": [
            "[[10, 20], [30, 40]]\n",
            "10\n",
            "30\n"
          ]
        }
      ],
      "source": [
        "columna_a=[10,20,30,40]\n",
        "columna_b=[30,40,50,60]\n",
        "matriz= [columna_a, columna_b]\n",
        "print(matriz)\n",
        "#ubicacion de un elemento\n",
        "print(matriz[0][0])\n",
        "print(matriz[1][0])"
      ]
    }
  ]
}