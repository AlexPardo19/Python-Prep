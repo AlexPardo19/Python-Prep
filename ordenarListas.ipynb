{
  "nbformat": 4,
  "nbformat_minor": 0,
  "metadata": {
    "colab": {
      "provenance": [],
      "authorship_tag": "ABX9TyN08d6PX5HMLo9MlH+sKvHN",
      "include_colab_link": true
    },
    "kernelspec": {
      "name": "python3",
      "display_name": "Python 3"
    },
    "language_info": {
      "name": "python"
    }
  },
  "cells": [
    {
      "cell_type": "markdown",
      "metadata": {
        "id": "view-in-github",
        "colab_type": "text"
      },
      "source": [
        "<a href=\"https://colab.research.google.com/github/AlexPardo19/Python-Prep/blob/main/ordenarListas.ipynb\" target=\"_parent\"><img src=\"https://colab.research.google.com/assets/colab-badge.svg\" alt=\"Open In Colab\"/></a>"
      ]
    },
    {
      "cell_type": "code",
      "execution_count": 7,
      "metadata": {
        "colab": {
          "base_uri": "https://localhost:8080/"
        },
        "id": "MbK3HR7RQSk7",
        "outputId": "db48b22f-2efa-4d9a-c13f-c70dd319df8b"
      },
      "outputs": [
        {
          "output_type": "stream",
          "name": "stdout",
          "text": [
            "[600, 132, 90, 44, 8, 5, 4, 3, 1]\n",
            "1\n",
            "600\n",
            "False\n",
            "True\n",
            "4\n"
          ]
        }
      ],
      "source": [
        "lista=[8,90,1,5,44,132,600,3,4]\n",
        "#permite ordenar listas el metodo sort de menor a mayor\n",
        "\n",
        "lista.sort()\n",
        "#permite ordenar listas de mayor a menor\n",
        "lista.sort(reverse=True)\n",
        "\n",
        "print(lista)\n",
        "\n",
        "#funcion min y max, permite ver el valor minimo y maximo respectivamente en un indice\n",
        "\n",
        "print(min(lista))\n",
        "print(max(lista))\n",
        "\n",
        "#se puede verificar si un lemento se encuentra en una lista(lanzara un numero boleano)\n",
        "print(8 not in lista)\n",
        "print(8  in lista)\n",
        "#el meo¿todo index retorna el indice en el que se encuentra\n",
        "index=lista.index(8)\n",
        "print(index)"
      ]
    },
    {
      "cell_type": "code",
      "source": [],
      "metadata": {
        "id": "OGwuCR8GDEeR"
      },
      "execution_count": null,
      "outputs": []
    }
  ]
}