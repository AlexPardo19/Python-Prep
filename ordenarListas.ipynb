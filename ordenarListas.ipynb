{
  "nbformat": 4,
  "nbformat_minor": 0,
  "metadata": {
    "colab": {
      "provenance": [],
      "authorship_tag": "ABX9TyNJWmqcnJsgXLAXd1zVaPDU",
      "include_colab_link": true
    },
    "kernelspec": {
      "name": "python3",
      "display_name": "Python 3"
    },
    "language_info": {
      "name": "python"
    }
  },
  "cells": [
    {
      "cell_type": "markdown",
      "metadata": {
        "id": "view-in-github",
        "colab_type": "text"
      },
      "source": [
        "<a href=\"https://colab.research.google.com/github/AlexPardo19/Python-Prep/blob/main/ordenarListas.ipynb\" target=\"_parent\"><img src=\"https://colab.research.google.com/assets/colab-badge.svg\" alt=\"Open In Colab\"/></a>"
      ]
    },
    {
      "cell_type": "code",
      "execution_count": 3,
      "metadata": {
        "colab": {
          "base_uri": "https://localhost:8080/"
        },
        "id": "MbK3HR7RQSk7",
        "outputId": "e0d9eec7-bab4-4e74-e65e-10efc97a75c3"
      },
      "outputs": [
        {
          "output_type": "stream",
          "name": "stdout",
          "text": [
            "[600, 132, 90, 44, 8, 5, 4, 3, 1]\n"
          ]
        }
      ],
      "source": [
        "lista=[8,90,1,5,44,132,600,3,4]\n",
        "#permite ordenar listas el metodo sort de menor a mayor\n",
        "lista.sort()\n",
        "#permite ordenar listas de mayor a menor\n",
        "lista.sort(reverse=True)\n",
        "\n",
        "print(lista)\n"
      ]
    }
  ]
}